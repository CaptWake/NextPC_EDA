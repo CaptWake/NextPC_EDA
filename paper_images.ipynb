{
 "cells": [
  {
   "cell_type": "code",
   "execution_count": 1,
   "id": "758c2af3-f961-4596-9014-9e5848edf47d",
   "metadata": {},
   "outputs": [
    {
     "data": {
      "text/html": [
       "\n",
       "                <script type=\"application/javascript\" id=\"jupyter_black\">\n",
       "                (function() {\n",
       "                    if (window.IPython === undefined) {\n",
       "                        return\n",
       "                    }\n",
       "                    var msg = \"WARNING: it looks like you might have loaded \" +\n",
       "                        \"jupyter_black in a non-lab notebook with \" +\n",
       "                        \"`is_lab=True`. Please double check, and if \" +\n",
       "                        \"loading with `%load_ext` please review the README!\"\n",
       "                    console.log(msg)\n",
       "                    alert(msg)\n",
       "                })()\n",
       "                </script>\n",
       "                "
      ],
      "text/plain": [
       "<IPython.core.display.HTML object>"
      ]
     },
     "metadata": {},
     "output_type": "display_data"
    }
   ],
   "source": [
    "import jupyter_black\n",
    "jupyter_black.load()"
   ]
  },
  {
   "cell_type": "code",
   "execution_count": 2,
   "id": "ff8324cf-89e7-402b-978f-8ead63aef974",
   "metadata": {},
   "outputs": [
    {
     "name": "stdout",
     "output_type": "stream",
     "text": [
      "Requirement already satisfied: fastplot in /opt/conda/lib/python3.7/site-packages (1.3.0)\n",
      "Requirement already satisfied: scipy in /opt/conda/lib/python3.7/site-packages (from fastplot) (1.7.3)\n",
      "Requirement already satisfied: matplotlib in /opt/conda/lib/python3.7/site-packages (from fastplot) (3.5.3)\n",
      "Requirement already satisfied: seaborn in /opt/conda/lib/python3.7/site-packages (from fastplot) (0.12.0)\n",
      "Requirement already satisfied: statsmodels in /opt/conda/lib/python3.7/site-packages (from fastplot) (0.13.2)\n",
      "Requirement already satisfied: numpy in /opt/conda/lib/python3.7/site-packages (from fastplot) (1.21.6)\n",
      "Requirement already satisfied: pandas in /opt/conda/lib/python3.7/site-packages (from fastplot) (1.3.5)\n",
      "Requirement already satisfied: pillow>=6.2.0 in /opt/conda/lib/python3.7/site-packages (from matplotlib->fastplot) (9.2.0)\n",
      "Requirement already satisfied: fonttools>=4.22.0 in /opt/conda/lib/python3.7/site-packages (from matplotlib->fastplot) (4.37.4)\n",
      "Requirement already satisfied: pyparsing>=2.2.1 in /opt/conda/lib/python3.7/site-packages (from matplotlib->fastplot) (3.0.9)\n",
      "Requirement already satisfied: kiwisolver>=1.0.1 in /opt/conda/lib/python3.7/site-packages (from matplotlib->fastplot) (1.4.4)\n",
      "Requirement already satisfied: python-dateutil>=2.7 in /opt/conda/lib/python3.7/site-packages (from matplotlib->fastplot) (2.8.2)\n",
      "Requirement already satisfied: cycler>=0.10 in /opt/conda/lib/python3.7/site-packages (from matplotlib->fastplot) (0.11.0)\n",
      "Requirement already satisfied: packaging>=20.0 in /home/students/derosa/.local/lib/python3.7/site-packages (from matplotlib->fastplot) (23.2)\n",
      "Requirement already satisfied: pytz>=2017.3 in /opt/conda/lib/python3.7/site-packages (from pandas->fastplot) (2022.4)\n",
      "Requirement already satisfied: typing_extensions in /opt/conda/lib/python3.7/site-packages (from seaborn->fastplot) (4.4.0)\n",
      "Requirement already satisfied: patsy>=0.5.2 in /opt/conda/lib/python3.7/site-packages (from statsmodels->fastplot) (0.5.2)\n",
      "Requirement already satisfied: six in /opt/conda/lib/python3.7/site-packages (from patsy>=0.5.2->statsmodels->fastplot) (1.16.0)\n"
     ]
    }
   ],
   "source": [
    "!pip install fastplot"
   ]
  },
  {
   "cell_type": "code",
   "execution_count": 3,
   "id": "dcd8a24e-1486-4791-a800-69b0d4cfbf7e",
   "metadata": {},
   "outputs": [],
   "source": [
    "import numpy as np\n",
    "import pandas as pd\n",
    "import fastplot\n",
    "import matplotlib.pyplot as plt\n",
    "import matplotlib.patches as mpatches\n",
    "import seaborn as sns"
   ]
  },
  {
   "cell_type": "code",
   "execution_count": 4,
   "id": "cfcacd27-a4a9-40c6-b461-fe189fd2f15d",
   "metadata": {},
   "outputs": [],
   "source": [
    "DATASET_NAME = \"test.csv\"\n",
    "PREPROCESSING_MODES = {\n",
    "    \"all\": \"PP0\",\n",
    "    \"basic\": \"PP1\",\n",
    "    \"manual-1\": \"PP2\",\n",
    "    \"manual-2\": \"PP3\",\n",
    "    \"manual-3\": \"PP4\",\n",
    "    \"random\": \"PP5\",\n",
    "}\n",
    "MODEL_NAMES = {\n",
    "    \"swinv2-base-patch4-window16-256\": \"mB\",\n",
    "    \"swinv2-large-patch4-window12-192-22k\": \"mL\",\n",
    "    \"swinv2-small-patch4-window16-256\": \"mS\",\n",
    "    \"swinv2-tiny-patch4-window16-256\": \"mT\",\n",
    "}\n",
    "DATASET_NAMES = {\"lab\": \"D0\", \"lab+maria\": \"D1\", \"lab+pasi\": \"D2\"}"
   ]
  },
  {
   "cell_type": "code",
   "execution_count": 5,
   "id": "8f9e46c2-a272-431a-a2cc-f20e625978b3",
   "metadata": {},
   "outputs": [],
   "source": [
    "df = pd.read_csv(DATASET_NAME)"
   ]
  },
  {
   "cell_type": "code",
   "execution_count": 6,
   "id": "914f3d0f-139c-4149-af10-094386ba436c",
   "metadata": {},
   "outputs": [],
   "source": [
    "df[\"preprocess_mode\"] = df[\"preprocess_mode\"].map(PREPROCESSING_MODES)\n",
    "df[\"model\"] = df[\"model\"].map(MODEL_NAMES)\n",
    "df[\"dataset\"] = df[\"dataset\"].map(DATASET_NAMES)"
   ]
  },
  {
   "cell_type": "code",
   "execution_count": 7,
   "id": "c4625202-9108-4068-9ad5-2f3f19201a6b",
   "metadata": {},
   "outputs": [
    {
     "data": {
      "text/html": [
       "<div>\n",
       "<style scoped>\n",
       "    .dataframe tbody tr th:only-of-type {\n",
       "        vertical-align: middle;\n",
       "    }\n",
       "\n",
       "    .dataframe tbody tr th {\n",
       "        vertical-align: top;\n",
       "    }\n",
       "\n",
       "    .dataframe thead th {\n",
       "        text-align: right;\n",
       "    }\n",
       "</style>\n",
       "<table border=\"1\" class=\"dataframe\">\n",
       "  <thead>\n",
       "    <tr style=\"text-align: right;\">\n",
       "      <th></th>\n",
       "      <th>Unnamed: 0</th>\n",
       "      <th>model</th>\n",
       "      <th>preprocess_mode</th>\n",
       "      <th>dataset</th>\n",
       "      <th>test_acc</th>\n",
       "      <th>test_prec</th>\n",
       "      <th>test_rec</th>\n",
       "      <th>test_f1</th>\n",
       "    </tr>\n",
       "  </thead>\n",
       "  <tbody>\n",
       "    <tr>\n",
       "      <th>0</th>\n",
       "      <td>0</td>\n",
       "      <td>mB</td>\n",
       "      <td>PP0</td>\n",
       "      <td>D1</td>\n",
       "      <td>0.743750</td>\n",
       "      <td>0.777952</td>\n",
       "      <td>0.743750</td>\n",
       "      <td>0.711543</td>\n",
       "    </tr>\n",
       "    <tr>\n",
       "      <th>1</th>\n",
       "      <td>1</td>\n",
       "      <td>mB</td>\n",
       "      <td>PP4</td>\n",
       "      <td>D1</td>\n",
       "      <td>0.700000</td>\n",
       "      <td>0.692500</td>\n",
       "      <td>0.700000</td>\n",
       "      <td>0.664997</td>\n",
       "    </tr>\n",
       "    <tr>\n",
       "      <th>2</th>\n",
       "      <td>2</td>\n",
       "      <td>mB</td>\n",
       "      <td>PP3</td>\n",
       "      <td>D1</td>\n",
       "      <td>0.671875</td>\n",
       "      <td>0.685011</td>\n",
       "      <td>0.671875</td>\n",
       "      <td>0.641260</td>\n",
       "    </tr>\n",
       "  </tbody>\n",
       "</table>\n",
       "</div>"
      ],
      "text/plain": [
       "   Unnamed: 0 model preprocess_mode dataset  test_acc  test_prec  test_rec  \\\n",
       "0           0    mB             PP0      D1  0.743750   0.777952  0.743750   \n",
       "1           1    mB             PP4      D1  0.700000   0.692500  0.700000   \n",
       "2           2    mB             PP3      D1  0.671875   0.685011  0.671875   \n",
       "\n",
       "    test_f1  \n",
       "0  0.711543  \n",
       "1  0.664997  \n",
       "2  0.641260  "
      ]
     },
     "execution_count": 7,
     "metadata": {},
     "output_type": "execute_result"
    }
   ],
   "source": [
    "df[:3]"
   ]
  },
  {
   "cell_type": "code",
   "execution_count": 8,
   "id": "27152965-303e-4454-85a3-9b309bc48c8d",
   "metadata": {},
   "outputs": [
    {
     "data": {
      "text/html": [
       "<div>\n",
       "<style scoped>\n",
       "    .dataframe tbody tr th:only-of-type {\n",
       "        vertical-align: middle;\n",
       "    }\n",
       "\n",
       "    .dataframe tbody tr th {\n",
       "        vertical-align: top;\n",
       "    }\n",
       "\n",
       "    .dataframe thead th {\n",
       "        text-align: right;\n",
       "    }\n",
       "</style>\n",
       "<table border=\"1\" class=\"dataframe\">\n",
       "  <thead>\n",
       "    <tr style=\"text-align: right;\">\n",
       "      <th></th>\n",
       "      <th>Unnamed: 0</th>\n",
       "      <th>model</th>\n",
       "      <th>preprocess_mode</th>\n",
       "      <th>dataset</th>\n",
       "      <th>test_acc</th>\n",
       "      <th>test_prec</th>\n",
       "      <th>test_rec</th>\n",
       "      <th>test_f1</th>\n",
       "    </tr>\n",
       "  </thead>\n",
       "  <tbody>\n",
       "    <tr>\n",
       "      <th>6</th>\n",
       "      <td>6</td>\n",
       "      <td>mB</td>\n",
       "      <td>PP0</td>\n",
       "      <td>D2</td>\n",
       "      <td>0.7950</td>\n",
       "      <td>0.839236</td>\n",
       "      <td>0.7950</td>\n",
       "      <td>0.767389</td>\n",
       "    </tr>\n",
       "    <tr>\n",
       "      <th>11</th>\n",
       "      <td>11</td>\n",
       "      <td>mB</td>\n",
       "      <td>PP1</td>\n",
       "      <td>D2</td>\n",
       "      <td>0.7825</td>\n",
       "      <td>0.842084</td>\n",
       "      <td>0.7825</td>\n",
       "      <td>0.765571</td>\n",
       "    </tr>\n",
       "    <tr>\n",
       "      <th>9</th>\n",
       "      <td>9</td>\n",
       "      <td>mB</td>\n",
       "      <td>PP2</td>\n",
       "      <td>D2</td>\n",
       "      <td>0.8025</td>\n",
       "      <td>0.846665</td>\n",
       "      <td>0.8025</td>\n",
       "      <td>0.796293</td>\n",
       "    </tr>\n",
       "  </tbody>\n",
       "</table>\n",
       "</div>"
      ],
      "text/plain": [
       "    Unnamed: 0 model preprocess_mode dataset  test_acc  test_prec  test_rec  \\\n",
       "6            6    mB             PP0      D2    0.7950   0.839236    0.7950   \n",
       "11          11    mB             PP1      D2    0.7825   0.842084    0.7825   \n",
       "9            9    mB             PP2      D2    0.8025   0.846665    0.8025   \n",
       "\n",
       "     test_f1  \n",
       "6   0.767389  \n",
       "11  0.765571  \n",
       "9   0.796293  "
      ]
     },
     "execution_count": 8,
     "metadata": {},
     "output_type": "execute_result"
    }
   ],
   "source": [
    "max_acc_rows = df.groupby([\"model\", \"preprocess_mode\"])[\"test_acc\"].idxmax()\n",
    "df.loc[max_acc_rows][:3]"
   ]
  },
  {
   "cell_type": "code",
   "execution_count": 9,
   "id": "ee8d7f61-c844-49f3-a3ad-98506a51f18d",
   "metadata": {},
   "outputs": [],
   "source": [
    "def make_scatterplot_cb(plt):\n",
    "    ax = sns.scatterplot(\n",
    "        df.loc[max_acc_rows],\n",
    "        alpha=0.8,\n",
    "        x=\"test_rec\",\n",
    "        y=\"test_prec\",\n",
    "        hue=\"preprocess_mode\",\n",
    "        style=\"model\",\n",
    "    )\n",
    "\n",
    "    handles, labels = ax.get_legend_handles_labels()\n",
    "    handles.pop(0)\n",
    "    handles[6] = mpatches.Patch(color=\"white\", label=\"\")\n",
    "    handles[7], handles[8] = handles[8], handles[7]\n",
    "\n",
    "    ax.set_xlabel(\"Recall\")\n",
    "    ax.set_ylabel(\"Precision\")\n",
    "\n",
    "    ax.legend(\n",
    "        handles=handles,\n",
    "        loc=\"upper center\",\n",
    "        bbox_to_anchor=(0.5, -0.22),\n",
    "        labelspacing=1,\n",
    "        ncol=2,\n",
    "        borderpad=1.3,\n",
    "        handletextpad=0.1,\n",
    "        prop={\"size\": 5},\n",
    "    )\n",
    "\n",
    "\n",
    "fastplot.plot(\n",
    "    None,\n",
    "    \"prec_rec.pdf\",\n",
    "    mode=\"callback\",\n",
    "    callback=make_scatterplot_cb,\n",
    "    grid=True,\n",
    "    style=\"latex\",\n",
    "    ylim=(0.65, 0.95),\n",
    "    figsize=(3, 4),\n",
    ")"
   ]
  },
  {
   "cell_type": "code",
   "execution_count": null,
   "id": "4f1707de-161a-4c6a-b892-60a78ea3ebf2",
   "metadata": {},
   "outputs": [],
   "source": []
  }
 ],
 "metadata": {
  "kernelspec": {
   "display_name": "Python 3 (ipykernel)",
   "language": "python",
   "name": "python3"
  },
  "language_info": {
   "codemirror_mode": {
    "name": "ipython",
    "version": 3
   },
   "file_extension": ".py",
   "mimetype": "text/x-python",
   "name": "python",
   "nbconvert_exporter": "python",
   "pygments_lexer": "ipython3",
   "version": "3.7.12"
  }
 },
 "nbformat": 4,
 "nbformat_minor": 5
}
